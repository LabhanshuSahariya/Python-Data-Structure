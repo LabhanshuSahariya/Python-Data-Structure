{
  "nbformat": 4,
  "nbformat_minor": 0,
  "metadata": {
    "colab": {
      "provenance": []
    },
    "kernelspec": {
      "name": "python3",
      "display_name": "Python 3"
    },
    "language_info": {
      "name": "python"
    }
  },
  "cells": [
    {
      "cell_type": "markdown",
      "source": [
        "# **Data Types and Structures Questions**"
      ],
      "metadata": {
        "id": "c8JzUB33ABEZ"
      }
    },
    {
      "cell_type": "markdown",
      "source": [
        "1. What are data structures, and why are they important?\n",
        "    - Data structure is a way of organising and storing data so that it can be accessed and manipulated efficiently. They are important because allow program to perform operations on data on the basis of their nature. By choosing the right data structure, programmer can significantly improve their code.  \n",
        "    Examples - list, strings, tuple, set, etc."
      ],
      "metadata": {
        "id": "8i0oaliGAJRG"
      }
    },
    {
      "cell_type": "markdown",
      "source": [
        "2.  Explain the difference between mutable and immutable data types with examples.\n",
        "    - **mutable data types**  \n",
        "    mutable data types are those whose values or elements can be changed or modiftied after they are created. When a mutable object is modified its identity/memory location remains same.   \n",
        "    Examples - list, dictionary, set  \n",
        "\n",
        "    - **immutable data types**  \n",
        "    immutable data types are those whose values or elements can not be changed or modified after they are created. Any operation that change an immutable object actually creat a new object that have the modified value, while the original object remains same.  \n",
        "    Examples - string, tuple, frozenset"
      ],
      "metadata": {
        "id": "SStXtELKCtfE"
      }
    },
    {
      "cell_type": "markdown",
      "source": [
        "3. What are the main differences between lists and tuples in Python?  \n",
        "    - lists are mutable, meaning their elements can be modified after creation, But tuples are immutable, which means their elements can not be modified after tuple is created.  \n",
        "    \n",
        "    - lists are defined using square bracket[], But tuples are defined using parenthesis().   \n",
        "\n",
        "    - lists are suitable for collections of items where modification, addition, or deletion of elements is required, such as a shoping list. Whereas tuples are suitable for collections of items that should remain unchanged and constant, like a database records. tuples are often used when data integrity is important."
      ],
      "metadata": {
        "id": "CkuYyOhnG-_z"
      }
    },
    {
      "cell_type": "markdown",
      "source": [
        "4. Describe how dictionaries store data.\n",
        "      - Dictionaries are a data structure that store data as a key-value pair. Each key within the dictionary must be unique, while the value can be duplicated. In dictionaries the key acts as a unique identifier for retrieving the value.\n",
        "      - In dictionaries you can only access value using key, vice-versa not possible."
      ],
      "metadata": {
        "id": "6tBdMl3TLOu6"
      }
    },
    {
      "cell_type": "markdown",
      "source": [
        "5. Why might you use a set instead of a list in Python?\n",
        "    - Sets store only unique elements. If duplicate values are added, they are automatically discarded. This is beneficial when maintaining a collection such as unique IDs, email addresses, etc.\n",
        "    - Unlike lists, sets do not maintain the order of elements. If the sequence of elements is not relevant to the application, using a set can be suitable.  \n",
        "    - Sets provide built-in methods for common mathematical set operations like union, intersection, difference, and symmetric difference. These operations are efficient for comparing and combining collections of unique elements."
      ],
      "metadata": {
        "id": "Aj11QbbaNbdg"
      }
    },
    {
      "cell_type": "markdown",
      "source": [
        "6.  What is a string in Python, and how is it different from a list?\n",
        "    - In python string is a squence of characters, represents the textual data. Strings are immutable. Strings are enclosed in single quotes, double quotes or triple quotes for multi-line string.  \n",
        "    **The key differences between string and list are :**  \n",
        "    - Strings are immutable and lists are mutable.\n",
        "    - Strings store textual data, But lists can store any data type.\n",
        "    - Strings are represented by characters within quotes whereas lists are represented by elements in square bracket."
      ],
      "metadata": {
        "id": "FtlsGH_3P1dt"
      }
    },
    {
      "cell_type": "markdown",
      "source": [
        "7. How do tuples ensure data integrity in Python?\n",
        "    - Tuples are immutable. They can't be modified once created. This speciality of tuples provides guarantee of data integrity. Since elements cannot be changed, there is no risk of accidental or unintentional alterations to the data stored within a tuple. This is important for data that should remain constant and unchanged, such as database records, unique ids, etc."
      ],
      "metadata": {
        "id": "MIvT_MvfTT-f"
      }
    },
    {
      "cell_type": "markdown",
      "source": [
        "8. What is a hash table, and how does it relate to dictionaries in Python?\n",
        "    - A hash table is a data structure that implements an associative array, also known as a dictionary or map. It stores data in key-value pairs, where each key is mapped to a specific memory location using a hash function. This hash function takes the key as input and produces an integer value (the hash code), which is then used to determine the storage location of the corresponding value.  \n",
        "    - Python dictionaries use a hash table as their fundamental data structure for storing key-value pairs. When you create a dictionary and add key-value pairs, Python internally uses a hash table to store and retrieve this data efficiently."
      ],
      "metadata": {
        "id": "pYRzDb4HWNWf"
      }
    },
    {
      "cell_type": "markdown",
      "source": [
        "9. Can lists contain different data types in Python?\n",
        "    - Yes, lists can store different data types in python such as integer, float, string, bool, etc."
      ],
      "metadata": {
        "id": "ggSGLnkkY0wS"
      }
    },
    {
      "cell_type": "markdown",
      "source": [
        "10. Explain why strings are immutable in Python.\n",
        "    - By preventing modification, immutability ensures that a string's value remains consistent. This prevents unexpected side effects and makes code easier to debug. Immutability makes strings hashable, which is a requirement for objects to be used as keys in dictionaries or elements in sets."
      ],
      "metadata": {
        "id": "t93tVmy0ZhIJ"
      }
    },
    {
      "cell_type": "markdown",
      "source": [
        "11. What advantages do dictionaries offer over lists for certain tasks?\n",
        "    - Dictionaries improve code readability by associating data with descriptive keys instead of relying on numerical indices, which is particularly useful when the order of data isn't important and you need to access items by their name or identifier. Dictionaries use hash tables to provide very quick access to values using their associated keys. This is important to access values in large databases. Dictionaries are crucial when you need to store related pieces of information and want to access them using a specific, meaningful identifier."
      ],
      "metadata": {
        "id": "QPJ5sGjmb1Up"
      }
    },
    {
      "cell_type": "markdown",
      "source": [
        "12. Describe a scenario where using a tuple would be preferable over a list.\n",
        "    - Imagine when we want to creat employee id in database and that should not be changed. In this scenario tuple would be preferable over a list because list can be modified and the employee id can be changed but we don't want the employee id to be changed. As we know that tuples are immutable by behaviour so the employee id created within tuple won't be changed."
      ],
      "metadata": {
        "id": "D5JrTJJYZhMz"
      }
    },
    {
      "cell_type": "markdown",
      "source": [
        "13. How do sets handle duplicate values in Python?\n",
        "    - In python sets are designed to store only unique elements. If programmer attempts to add a duplicate value in set, the set simply ignore the addition and automatically delete the duplicate values. The existing element remains same and the duplicate element is not added."
      ],
      "metadata": {
        "id": "jy76jLKpRkwH"
      }
    },
    {
      "cell_type": "markdown",
      "source": [
        "14. How does the “in” keyword work differently for lists and dictionaries?\n",
        "    - The \"in\" keyword in Python functions differently when used with lists and dictionaries due to their underlying data structures and how they store and retrieve data. In lists \"in\" keyword checks for the presence of specific element within the list. But when \"in\" is used with a dictionary it checks for the presence of a specific key within the dictionary, It does not check for values directly."
      ],
      "metadata": {
        "id": "l-qsOZjrTRaO"
      }
    },
    {
      "cell_type": "markdown",
      "source": [
        "15. Can you modify the elements of a tuple? Explain why or why not?\n",
        "    - No, the elements of a tuple cannot be modified directly after its creation. This is because tuples are immutable data structures in Python. Once a tuple is defined and its elements are created, its elements cannot be changed, added, or removed. Attempting to modify an element directly, like my_tuple[0] = new_value, will result in a TypeError."
      ],
      "metadata": {
        "id": "dSr0MFDQV-ZN"
      }
    },
    {
      "cell_type": "markdown",
      "source": [
        "16. What is a nested dictionary, and give an example of its use case?\n",
        "    - Nested dictionary is a dicitionary where the values associated with the keys are themselves other dictionaries. This is like dictionaries within the dictionary. Nested dictionaries allows to represent the complex data. A common use case for nested dictionaries is representing data with multiple levels of detail, such as employee's name, age, height, experience, etc.  \n",
        "    **Example**\n",
        "    - Consider storing information about multiple employees, where each employee has various details like name, age, gender. A nested dictionary is useful in such conditions.  \n",
        "    \n",
        "    employees_id = {  \n",
        "      \"employee_1\" : {\"name\" : \"Gaurav\", \"age\" : 22, \"gender\" : \"Male\"}  \n",
        "      \"employee_2\" : {\"name\" : \"Asha\", \"age\" : 19, \"gender\" : \"Female\"}}"
      ],
      "metadata": {
        "id": "PA6keUh1XRh-"
      }
    },
    {
      "cell_type": "markdown",
      "source": [
        "17. Describe the time complexity of accessing elements in a dictionary.\n",
        "    - Accessing elements in a dictionary generally has an average time complexity of O(1), which stands for constant time. This means that, on average, the time it takes to retrieve a value using its key does not significantly increase with the size of the dictionary. When a key-value pair is added, a hash function converts the key into a hash value, which then determines the memory location where the value is stored. When retrieving a value, the same hash function is applied to the key, allowing for direct access to the corresponding memory location and the associated value."
      ],
      "metadata": {
        "id": "KYKzmCYZb0mD"
      }
    },
    {
      "cell_type": "markdown",
      "source": [
        "18. In what situations are lists preferred over dictionaries?\n",
        "    - Lists are preferred over dictionaries when the order of elements is important, you need to perform sequential operations, or when you simply require a collection of items that can be accessed by their position (index). They are also suitable for storing duplicate values and are generally better for iterating over all items in a collection."
      ],
      "metadata": {
        "id": "LArGAfZKdiXa"
      }
    },
    {
      "cell_type": "markdown",
      "source": [
        "19. Why are dictionaries considered unordered, and how does that affect data retrieval?\n",
        "    - Dictionaries are considered unordered because the elements within the dictionary are not in specific predictable sequence and they don't have a fix position in dictionary. This fundamental characteristic means that data retrieval relies entirely on key-based access because the elements in dictionaries can't be accessed by thier index number because they don't really have a fix position. To retrieve data from a dictionary, you must provide the specific key that returns the value you want."
      ],
      "metadata": {
        "id": "ls8EqGPVezeL"
      }
    },
    {
      "cell_type": "markdown",
      "source": [
        "20. Explain the difference between a list and a dictionary in terms of data retrieval.\n",
        "    - In data retrieval, lists are accessed by their numeric indices (like positions in a sequence), while dictionaries are accessed by their unique keys. Lists are ordered collection elements, allowing for positional access, while dictionaries are unordered key-value pairs, designed for direct access by key. Retrieving an element from a list can be slower, especially for large lists, Whereas dictionaries are much faster for retrieving a specific item."
      ],
      "metadata": {
        "id": "VcUcQ9zJhRvX"
      }
    },
    {
      "cell_type": "markdown",
      "source": [
        "# **Practical Questions**"
      ],
      "metadata": {
        "id": "tZTRYUZ4i5Mz"
      }
    },
    {
      "cell_type": "code",
      "source": [
        "# Que.1 Write a code to create a string with your name and print it.\n",
        "\n",
        "name = \"Gaurav\"\n",
        "print(name, type(name))"
      ],
      "metadata": {
        "colab": {
          "base_uri": "https://localhost:8080/"
        },
        "id": "KNdLXLIGjKBg",
        "outputId": "755bf617-d056-4742-fb7e-135ee9cf22f1"
      },
      "execution_count": null,
      "outputs": [
        {
          "output_type": "stream",
          "name": "stdout",
          "text": [
            "Gaurav <class 'str'>\n"
          ]
        }
      ]
    },
    {
      "cell_type": "code",
      "source": [
        "# Que.2 Write a code to find the length of the string \"Hello World\".\n",
        "\n",
        "string = \"Hello World\"\n",
        "print(len(string))"
      ],
      "metadata": {
        "colab": {
          "base_uri": "https://localhost:8080/"
        },
        "id": "rhbApFEBjmrC",
        "outputId": "28ff3951-62bc-43c0-b1e8-d4ccbb528607"
      },
      "execution_count": null,
      "outputs": [
        {
          "output_type": "stream",
          "name": "stdout",
          "text": [
            "11\n"
          ]
        }
      ]
    },
    {
      "cell_type": "code",
      "source": [
        "# Que.3 Write a code to slice the first 3 characters from the string \"Python Programming\".\n",
        "\n",
        "string = \"Python Programming\"\n",
        "print(string[0:3])"
      ],
      "metadata": {
        "colab": {
          "base_uri": "https://localhost:8080/"
        },
        "id": "AIiD_Hetj3w-",
        "outputId": "1b1f30a5-00ed-413a-907b-e46b511b8261"
      },
      "execution_count": null,
      "outputs": [
        {
          "output_type": "stream",
          "name": "stdout",
          "text": [
            "Pyt\n"
          ]
        }
      ]
    },
    {
      "cell_type": "code",
      "source": [
        "# Que.4 Write a code to convert the string \"hello\" to uppercase.\n",
        "\n",
        "string = \"hello\"\n",
        "string.upper()"
      ],
      "metadata": {
        "colab": {
          "base_uri": "https://localhost:8080/",
          "height": 35
        },
        "id": "sRQ7vkPvkepC",
        "outputId": "eface1f7-0767-4569-c266-1ecec743989c"
      },
      "execution_count": null,
      "outputs": [
        {
          "output_type": "execute_result",
          "data": {
            "text/plain": [
              "'HELLO'"
            ],
            "application/vnd.google.colaboratory.intrinsic+json": {
              "type": "string"
            }
          },
          "metadata": {},
          "execution_count": 4
        }
      ]
    },
    {
      "cell_type": "code",
      "source": [
        "# Que.5 Write a code to replace the word \"apple\" with \"orange\" in the string \"I like apple\".\n",
        "\n",
        "string = \"I like apple\"\n",
        "string.replace(\"apple\", \"orange\")"
      ],
      "metadata": {
        "colab": {
          "base_uri": "https://localhost:8080/",
          "height": 35
        },
        "id": "0gL9TqqSk8RH",
        "outputId": "b5ffd633-6005-4403-9f6c-08fd0f5a48b0"
      },
      "execution_count": null,
      "outputs": [
        {
          "output_type": "execute_result",
          "data": {
            "text/plain": [
              "'I like orange'"
            ],
            "application/vnd.google.colaboratory.intrinsic+json": {
              "type": "string"
            }
          },
          "metadata": {},
          "execution_count": 5
        }
      ]
    },
    {
      "cell_type": "code",
      "source": [
        "# Que.6 Write a code to create a list with numbers 1 to 5 and print it.\n",
        "\n",
        "lst = []\n",
        "for i in range(1, 6):\n",
        "    lst.append(i)\n",
        "print(lst)"
      ],
      "metadata": {
        "colab": {
          "base_uri": "https://localhost:8080/"
        },
        "id": "ZB53adDllno-",
        "outputId": "7abe17b9-b580-43a4-d52a-d0e52531857b"
      },
      "execution_count": null,
      "outputs": [
        {
          "output_type": "stream",
          "name": "stdout",
          "text": [
            "[1, 2, 3, 4, 5]\n"
          ]
        }
      ]
    },
    {
      "cell_type": "code",
      "source": [
        "# Que.7 Write a code to append the number 10 to the list [1, 2, 3, 4].\n",
        "\n",
        "lst = [1, 2, 3, 4]\n",
        "lst.append(10)\n",
        "print(lst)"
      ],
      "metadata": {
        "colab": {
          "base_uri": "https://localhost:8080/"
        },
        "id": "POD1_xv1mNF5",
        "outputId": "7a8994fc-4002-48da-883d-ae492dc7709f"
      },
      "execution_count": null,
      "outputs": [
        {
          "output_type": "stream",
          "name": "stdout",
          "text": [
            "[1, 2, 3, 4, 10]\n"
          ]
        }
      ]
    },
    {
      "cell_type": "code",
      "source": [
        "# Que.8 Write a code to remove the number 3 from the list [1, 2, 3, 4, 5].\n",
        "\n",
        "lst = [1, 2, 3, 4, 5]\n",
        "lst.remove(3)\n",
        "print(lst)"
      ],
      "metadata": {
        "colab": {
          "base_uri": "https://localhost:8080/"
        },
        "id": "DYORR9jEmfsm",
        "outputId": "5170731a-0495-45b4-ea05-ae70f306ac53"
      },
      "execution_count": null,
      "outputs": [
        {
          "output_type": "stream",
          "name": "stdout",
          "text": [
            "[1, 2, 4, 5]\n"
          ]
        }
      ]
    },
    {
      "cell_type": "code",
      "source": [
        "# Que.9 Write a code to access the second element in the list ['a', 'b', 'c', 'd'].\n",
        "\n",
        "lst = ['a', 'b', 'c', 'd']\n",
        "print(lst[1])"
      ],
      "metadata": {
        "colab": {
          "base_uri": "https://localhost:8080/"
        },
        "id": "KuQDsCd5nAL2",
        "outputId": "feec00a5-b904-4a51-d7d3-1a085edd32b7"
      },
      "execution_count": null,
      "outputs": [
        {
          "output_type": "stream",
          "name": "stdout",
          "text": [
            "b\n"
          ]
        }
      ]
    },
    {
      "cell_type": "code",
      "source": [
        "# Que.10 Write a code to reverse the list [10, 20, 30, 40, 50].\n",
        "\n",
        "lst = [10, 20, 30, 40, 50]\n",
        "lst.reverse()\n",
        "print(lst)"
      ],
      "metadata": {
        "colab": {
          "base_uri": "https://localhost:8080/"
        },
        "id": "meKQcrRqnOPq",
        "outputId": "fca488aa-4b41-4316-ec84-69fba6b6687b"
      },
      "execution_count": null,
      "outputs": [
        {
          "output_type": "stream",
          "name": "stdout",
          "text": [
            "[50, 40, 30, 20, 10]\n"
          ]
        }
      ]
    },
    {
      "cell_type": "code",
      "source": [
        "# Que.11  Write a code to create a tuple with the elements 100, 200, 300 and print it.\n",
        "\n",
        "tup_le = (100, 200, 300)\n",
        "print(tup_le)"
      ],
      "metadata": {
        "colab": {
          "base_uri": "https://localhost:8080/"
        },
        "id": "d3YrrUnanxWq",
        "outputId": "63695467-1a83-42f0-b382-e12503517c4c"
      },
      "execution_count": null,
      "outputs": [
        {
          "output_type": "stream",
          "name": "stdout",
          "text": [
            "(100, 200, 300)\n"
          ]
        }
      ]
    },
    {
      "cell_type": "code",
      "source": [
        "# Que.12 Write a code to access the second-to-last element of the tuple ('red', 'green', 'blue', 'yellow').\n",
        "\n",
        "tup = ('red', 'green', 'blue', 'yellow')\n",
        "print(tup[-2])"
      ],
      "metadata": {
        "id": "eg69YnHspKV4",
        "colab": {
          "base_uri": "https://localhost:8080/"
        },
        "outputId": "4aeea3b8-68ed-4a7f-d5c2-69e8add3ac1c"
      },
      "execution_count": 1,
      "outputs": [
        {
          "output_type": "stream",
          "name": "stdout",
          "text": [
            "blue\n"
          ]
        }
      ]
    },
    {
      "cell_type": "code",
      "source": [
        "# Que.13  Write a code to find the minimum number in the tuple (10, 20, 5, 15).\n",
        "\n",
        "tup = (10, 20, 5, 15)\n",
        "print(min(tup))"
      ],
      "metadata": {
        "colab": {
          "base_uri": "https://localhost:8080/"
        },
        "id": "bhe4ZU81ZQdg",
        "outputId": "debadd53-0cfb-49cb-ea8a-f34e6e7ce825"
      },
      "execution_count": 2,
      "outputs": [
        {
          "output_type": "stream",
          "name": "stdout",
          "text": [
            "5\n"
          ]
        }
      ]
    },
    {
      "cell_type": "code",
      "source": [
        "# Que.14  Write a code to find the index of the element \"cat\" in the tuple ('dog', 'cat', 'rabbit').\n",
        "\n",
        "tup = ('dog', 'cat', 'rabbit')\n",
        "tup.index('cat')"
      ],
      "metadata": {
        "colab": {
          "base_uri": "https://localhost:8080/"
        },
        "id": "53UBCofMZuXd",
        "outputId": "a5dd5f2f-0c20-4a25-d2bd-6bf2e5981778"
      },
      "execution_count": 3,
      "outputs": [
        {
          "output_type": "execute_result",
          "data": {
            "text/plain": [
              "1"
            ]
          },
          "metadata": {},
          "execution_count": 3
        }
      ]
    },
    {
      "cell_type": "code",
      "source": [
        "# Que.15 Write a code to create a tuple containing three different fruits and check if \"kiwi\" is in it.\n",
        "\n",
        "tup = ('apple', 'banana', 'orange')\n",
        "print('kiwi' in tup)"
      ],
      "metadata": {
        "colab": {
          "base_uri": "https://localhost:8080/"
        },
        "id": "LU0kdBI9aFB1",
        "outputId": "d2f6cb7f-95d0-49f6-aa74-b44a06b25ffe"
      },
      "execution_count": 4,
      "outputs": [
        {
          "output_type": "stream",
          "name": "stdout",
          "text": [
            "False\n"
          ]
        }
      ]
    },
    {
      "cell_type": "code",
      "source": [
        "# Que.16 Write a code to create a set with the elements 'a', 'b', 'c' and print it.\n",
        "\n",
        "set_1 = {'a', 'b', 'c'}\n",
        "print(set_1)"
      ],
      "metadata": {
        "colab": {
          "base_uri": "https://localhost:8080/"
        },
        "id": "YdcdyIWvanpN",
        "outputId": "bdd005ea-84ab-43a2-a58e-65fd32db5efa"
      },
      "execution_count": 5,
      "outputs": [
        {
          "output_type": "stream",
          "name": "stdout",
          "text": [
            "{'c', 'a', 'b'}\n"
          ]
        }
      ]
    },
    {
      "cell_type": "code",
      "source": [
        "# Que.17  Write a code to clear all elements from the set {1, 2, 3, 4, 5}.\n",
        "\n",
        "set_1 = {1, 2, 3, 4, 5}\n",
        "set_1.clear()\n",
        "print(set_1)"
      ],
      "metadata": {
        "colab": {
          "base_uri": "https://localhost:8080/"
        },
        "id": "R1ncu4GIa2VH",
        "outputId": "83dd61c0-76fa-46c2-e7e7-0f91c8fb9b74"
      },
      "execution_count": 6,
      "outputs": [
        {
          "output_type": "stream",
          "name": "stdout",
          "text": [
            "set()\n"
          ]
        }
      ]
    },
    {
      "cell_type": "code",
      "source": [
        "# Que.18  Write a code to remove the element 4 from the set {1, 2, 3, 4}.\n",
        "\n",
        "set_1 = {1, 2, 3, 4}\n",
        "set_1.remove(4)\n",
        "print(set_1)"
      ],
      "metadata": {
        "colab": {
          "base_uri": "https://localhost:8080/"
        },
        "id": "jQ1ZoiEabB-0",
        "outputId": "a40e57db-02d1-4fc9-8d36-888386e6147b"
      },
      "execution_count": 7,
      "outputs": [
        {
          "output_type": "stream",
          "name": "stdout",
          "text": [
            "{1, 2, 3}\n"
          ]
        }
      ]
    },
    {
      "cell_type": "code",
      "source": [
        "# Que.19 Write a code to find the union of two sets {1, 2, 3} and {3, 4, 5}.\n",
        "\n",
        "set1 = {1, 2, 3}\n",
        "set2 = {3, 4, 5}\n",
        "set1.union(set2)"
      ],
      "metadata": {
        "colab": {
          "base_uri": "https://localhost:8080/"
        },
        "id": "yRdSutDxbszg",
        "outputId": "963dcbe5-0346-4cbc-b32a-05f69760554d"
      },
      "execution_count": 8,
      "outputs": [
        {
          "output_type": "execute_result",
          "data": {
            "text/plain": [
              "{1, 2, 3, 4, 5}"
            ]
          },
          "metadata": {},
          "execution_count": 8
        }
      ]
    },
    {
      "cell_type": "code",
      "source": [
        "# Que.20 Write a code to find the intersection of two sets {1, 2, 3} and {2, 3, 4}.\n",
        "\n",
        "set1 = {1, 2, 3}\n",
        "set2 = {2, 3, 4}\n",
        "set1.intersection(set2)"
      ],
      "metadata": {
        "colab": {
          "base_uri": "https://localhost:8080/"
        },
        "id": "TcoqJeWQb9Gy",
        "outputId": "50ecaae8-d292-4801-e5c2-3e3b932c59fd"
      },
      "execution_count": 9,
      "outputs": [
        {
          "output_type": "execute_result",
          "data": {
            "text/plain": [
              "{2, 3}"
            ]
          },
          "metadata": {},
          "execution_count": 9
        }
      ]
    },
    {
      "cell_type": "code",
      "source": [
        "# Que.21  Write a code to create a dictionary with the keys \"name\", \"age\", and \"city\", and print it.\n",
        "\n",
        "my_dict = {\"name\" : \"Honey\", \"age\" : 24, \"city\" : \"Jaipur\"}\n",
        "print(my_dict)"
      ],
      "metadata": {
        "colab": {
          "base_uri": "https://localhost:8080/"
        },
        "id": "yqOtvE-vcQlX",
        "outputId": "eb7e284d-5e6c-48fe-a4ee-15c92114bfa0"
      },
      "execution_count": 10,
      "outputs": [
        {
          "output_type": "stream",
          "name": "stdout",
          "text": [
            "{'name': 'Honey', 'age': 24, 'city': 'Jaipur'}\n"
          ]
        }
      ]
    },
    {
      "cell_type": "code",
      "source": [
        "# Que.22 Write a code to add a new key-value pair \"country\": \"USA\" to the dictionary {'name': 'John', 'age': 25}.\n",
        "\n",
        "dict1 = {'name': 'John', 'age': 25}\n",
        "dict1['country'] = 'USA'\n",
        "print(dict1)"
      ],
      "metadata": {
        "colab": {
          "base_uri": "https://localhost:8080/"
        },
        "id": "r1Wxbv_Vcwc4",
        "outputId": "ba114fd4-8734-40ca-da8d-82bc28e2ef1b"
      },
      "execution_count": 11,
      "outputs": [
        {
          "output_type": "stream",
          "name": "stdout",
          "text": [
            "{'name': 'John', 'age': 25, 'country': 'USA'}\n"
          ]
        }
      ]
    },
    {
      "cell_type": "code",
      "source": [
        "# Que.23  Write a code to access the value associated with the key \"name\" in the dictionary {'name': 'Alice', 'age': 30}.\n",
        "\n",
        "dict1 = {'name': 'Alice', 'age': 30}\n",
        "print(dict1['name'])"
      ],
      "metadata": {
        "colab": {
          "base_uri": "https://localhost:8080/"
        },
        "id": "KibJSDm4dAcd",
        "outputId": "5568f70e-9e7f-499c-cdb9-22f1930e4f44"
      },
      "execution_count": 12,
      "outputs": [
        {
          "output_type": "stream",
          "name": "stdout",
          "text": [
            "Alice\n"
          ]
        }
      ]
    },
    {
      "cell_type": "code",
      "source": [
        "# Que.24  Write a code to remove the key \"age\" from the dictionary {'name': 'Bob', 'age': 22, 'city': 'New York'}.\n",
        "\n",
        "dict1 = {'name': 'Bob', 'age': 22, 'city': 'New York'}\n",
        "dict1.pop('age')\n",
        "print(dict1)"
      ],
      "metadata": {
        "colab": {
          "base_uri": "https://localhost:8080/"
        },
        "id": "THomGQYxdZLw",
        "outputId": "a76b2891-5b81-4870-e8ee-3accee65ed36"
      },
      "execution_count": 13,
      "outputs": [
        {
          "output_type": "stream",
          "name": "stdout",
          "text": [
            "{'name': 'Bob', 'city': 'New York'}\n"
          ]
        }
      ]
    },
    {
      "cell_type": "code",
      "source": [
        "# Que.25  Write a code to check if the key \"city\" exists in the dictionary {'name': 'Alice', 'city': 'Paris'}.\n",
        "\n",
        "dict1 = {'name': 'Alice', 'city': 'Paris'}\n",
        "print('city' in dict1)"
      ],
      "metadata": {
        "colab": {
          "base_uri": "https://localhost:8080/"
        },
        "id": "-GgySaDFdyoL",
        "outputId": "d09e9f34-eb63-4b09-9911-fc4617bd7ff2"
      },
      "execution_count": 14,
      "outputs": [
        {
          "output_type": "stream",
          "name": "stdout",
          "text": [
            "True\n"
          ]
        }
      ]
    },
    {
      "cell_type": "code",
      "source": [
        "# Que.26  Write a code to create a list, a tuple, and a dictionary, and print them all.\n",
        "\n",
        "lst = [1, 2, 3, 'joey', 'alpha']\n",
        "tup = (8, 9, 67, 'mango', 674,)\n",
        "dct = {\"name\": \"Lucky\", \"age\": 22,}\n",
        "print(lst, tup, dct)"
      ],
      "metadata": {
        "colab": {
          "base_uri": "https://localhost:8080/"
        },
        "id": "-z9BespfeNAj",
        "outputId": "630e557a-5414-41c1-f8a2-0c13515e4c6e"
      },
      "execution_count": 20,
      "outputs": [
        {
          "output_type": "stream",
          "name": "stdout",
          "text": [
            "[1, 2, 3, 'joey', 'alpha'] (8, 9, 67, 'mango', 674) {'name': 'Lucky', 'age': 22}\n"
          ]
        }
      ]
    },
    {
      "cell_type": "code",
      "source": [
        "# Que.27 Write a code to create a list of 5 random numbers between 1 and 100, sort it in ascending order, and print the result.(replaced)\n",
        "\n",
        "lst = [54, 96, 69, 34, 23]\n",
        "sorted_lst = sorted(lst)\n",
        "print(sorted_lst)"
      ],
      "metadata": {
        "colab": {
          "base_uri": "https://localhost:8080/"
        },
        "id": "RdkjgO7UfOy-",
        "outputId": "30e472a8-ec9c-4835-88b3-361e7fe7e074"
      },
      "execution_count": 21,
      "outputs": [
        {
          "output_type": "stream",
          "name": "stdout",
          "text": [
            "[23, 34, 54, 69, 96]\n"
          ]
        }
      ]
    },
    {
      "cell_type": "code",
      "source": [
        "# Que.28 Write a code to create a list with strings and print the element at the third index.\n",
        "\n",
        "my_list = ['apple', 'banana', 'orange', 'kiwi', 'mango']\n",
        "print(my_list[2])"
      ],
      "metadata": {
        "colab": {
          "base_uri": "https://localhost:8080/"
        },
        "id": "ruSqQod4gbxM",
        "outputId": "79d0887c-6b32-481e-e438-95cfd4f98863"
      },
      "execution_count": 22,
      "outputs": [
        {
          "output_type": "stream",
          "name": "stdout",
          "text": [
            "orange\n"
          ]
        }
      ]
    },
    {
      "cell_type": "code",
      "source": [
        "# Que.29. Write a code to combine two dictionaries into one and print the result.\n",
        "\n",
        "dict1 = {'a': 1, 'b': 2}\n",
        "dict2 = {'c': 3, 'd': 4}\n",
        "dict1.update(dict2)\n",
        "print(dict1)"
      ],
      "metadata": {
        "colab": {
          "base_uri": "https://localhost:8080/"
        },
        "id": "8bdn3taIgtUB",
        "outputId": "0661cea7-0f03-4db1-dfea-163143a9e5fb"
      },
      "execution_count": 24,
      "outputs": [
        {
          "output_type": "stream",
          "name": "stdout",
          "text": [
            "{'a': 1, 'b': 2, 'c': 3, 'd': 4}\n"
          ]
        }
      ]
    },
    {
      "cell_type": "code",
      "source": [
        "# Que.30 Write a code to convert a list of strings into a set.\n",
        "\n",
        "my_list = ['apple', 'banana', 'orange', 'kiwi', 'mango']\n",
        "my_set = set(my_list)\n",
        "print(my_set)"
      ],
      "metadata": {
        "colab": {
          "base_uri": "https://localhost:8080/"
        },
        "id": "JJOpda3dhe7o",
        "outputId": "144d127e-af02-4b8c-a399-a9e9aabe8741"
      },
      "execution_count": 25,
      "outputs": [
        {
          "output_type": "stream",
          "name": "stdout",
          "text": [
            "{'kiwi', 'apple', 'mango', 'banana', 'orange'}\n"
          ]
        }
      ]
    }
  ]
}